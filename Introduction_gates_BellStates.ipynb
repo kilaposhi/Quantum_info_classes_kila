{
 "cells": [
  {
   "cell_type": "markdown",
   "id": "b30964f9",
   "metadata": {},
   "source": [
    "TP2 Exercice 1 : Les bases\n",
    "\n",
    "1.1)\n",
    "Dans un système binaire l'information est représenté par des 0 et des 1 (d'où le nom binaire), c'est 0 et 1 sont stockés dans des bits qui peuvent soit être 0 ou 1.\n",
    "Pour avoir des informations plus complexe que des booléens on utilise l'octet qui est un séquence de 8bits.\n",
    "\n",
    "1.2)\n",
    "Dans l'architecture d'un ordinateur pour créer la logique et manipuler l'information contenu dans les bits on utilise des portes:\n",
    "La porte NOT qui renvoie le bit inverse : 1 -> 0 et 0->1\n",
    "La porte AND à deux bits si elle recoit deux bits de valeur elle renvoie 1 sinon elle renvoie 0\n",
    "La porte OR à deuxw bits qui si elle reçoit 10 ou 11 ou 01 renvoie 1 | 00 -> 0\n",
    "La porte XOR (ou exclusif) renvoie 1 uniquement si UN seul des deux bits qu'elle reçoit est vraie | 11 -> 0\n",
    "\n",
    "2)\n",
    "Un qubit peut être soit l'état |0> soit dans l'état |1> soit en superposition quantique càd dans les deux états à la fois :\n",
    "|ψ⟩ = 𝛼. |0⟩ + 𝛽. |1⟩ , avec la norme du qubit toujours égale 1"
   ]
  },
  {
   "cell_type": "code",
   "execution_count": 7,
   "id": "4115d731",
   "metadata": {},
   "outputs": [
    {
     "data": {
      "image/png": "[encoded data removed]",
      "text/plain": [
       "<Figure size 287.294x200.667 with 1 Axes>"
      ]
     },
     "execution_count": 7,
     "metadata": {},
     "output_type": "execute_result"
    }
   ],
   "source": [
    "import numpy as np\n",
    "import time \n",
    "from qiskit import *\n",
    "from qiskit.providers.aer import QasmSimulator\n",
    "from qiskit.visualization import *\n",
    "\n",
    "\n",
    "#Création d’un circuit quantique à 2 qubits\n",
    "circ = QuantumCircuit(2)\n",
    "#Ajouter une porte H pour l’entrée (qubit) 0 => superposition\n",
    "circ.h(0)\n",
    "# Ajouter l’opération CNOT avec 0 comme qubit de control et le qubit 1 comme cible\n",
    "# => état de Bell\n",
    "circ.cx(0, 1)\n",
    "#Afficher le circuit :\n",
    "circ.draw('mpl')\n"
   ]
  },
  {
   "cell_type": "markdown",
   "id": "031b9cc7",
   "metadata": {},
   "source": [
    "# Exercice 2 : Les portes\n",
    "\n"
   ]
  },
  {
   "cell_type": "markdown",
   "id": "bb61fdc7",
   "metadata": {},
   "source": [
    "#### 1) Porte H :\n",
    "$$ \\text{Porte qui permet de mettre un qubit en superposition quantique avec environ 50\\% de |0> et de |1> } $$ \n",
    "$$ \\begin{bmatrix}\n",
    "1 & 1 \\\\\n",
    "1 & -1 \\\\\n",
    "\\end{bmatrix}\\times\\frac{1}{\\sqrt{2}}\n",
    "\\quad\\text{Matrice de passage H}\n",
    "\\\\ $$\n",
    "$$\n",
    "H \\times q_{0} = H \\times \\begin{pmatrix}1\\\\0\\end{pmatrix} = \\frac{1}{\\sqrt{2}} \\times \\begin{pmatrix}1\\\\1\\end{pmatrix}\n",
    "\\quad \\quad \\text{ Ici } q_{0} = \\ket{0}$$"
   ]
  },
  {
   "cell_type": "code",
   "execution_count": 8,
   "id": "3e961303",
   "metadata": {},
   "outputs": [
    {
     "ename": "ValueError",
     "evalue": "invalid literal for int() with base 10: ''",
     "output_type": "error",
     "traceback": [
      "\u001b[1;31m---------------------------------------------------------------------------\u001b[0m",
      "\u001b[1;31mValueError\u001b[0m                                Traceback (most recent call last)",
      "\u001b[1;32m~\\AppData\\Local\\Temp\\ipykernel_8584\\4137770695.py\u001b[0m in \u001b[0;36m<module>\u001b[1;34m\u001b[0m\n\u001b[0;32m     18\u001b[0m \u001b[1;33m\u001b[0m\u001b[0m\n\u001b[0;32m     19\u001b[0m \u001b[1;33m\u001b[0m\u001b[0m\n\u001b[1;32m---> 20\u001b[1;33m \u001b[0mq0\u001b[0m \u001b[1;33m=\u001b[0m \u001b[0mint\u001b[0m\u001b[1;33m(\u001b[0m\u001b[0minput\u001b[0m\u001b[1;33m(\u001b[0m\u001b[1;34m\"Saisir la 1valeur de q0 :  ex |0>\"\u001b[0m\u001b[1;33m)\u001b[0m\u001b[1;33m)\u001b[0m\u001b[1;33m\u001b[0m\u001b[1;33m\u001b[0m\u001b[0m\n\u001b[0m\u001b[0;32m     21\u001b[0m \u001b[0mprint\u001b[0m\u001b[1;33m(\u001b[0m\u001b[1;34mf\"\\n qubits d'entrée : |{q0}> \"\u001b[0m\u001b[1;33m)\u001b[0m\u001b[1;33m\u001b[0m\u001b[1;33m\u001b[0m\u001b[0m\n\u001b[0;32m     22\u001b[0m \u001b[0mcounts\u001b[0m \u001b[1;33m=\u001b[0m \u001b[0mhadamar\u001b[0m\u001b[1;33m(\u001b[0m\u001b[0mq0\u001b[0m\u001b[1;33m)\u001b[0m\u001b[1;33m\u001b[0m\u001b[1;33m\u001b[0m\u001b[0m\n",
      "\u001b[1;31mValueError\u001b[0m: invalid literal for int() with base 10: ''"
     ]
    }
   ],
   "source": [
    "circ = QuantumCircuit(1,1)\n",
    "simulator = QasmSimulator()\n",
    "\n",
    "def hadamar(q0):\n",
    "    if q0 == 1:\n",
    "        circ.x(0)\n",
    "    circ.h(0)\n",
    "    #Measure :\n",
    "    circ.measure([0],[0])\n",
    "    compiled_circuit = transpile(circ, simulator)\n",
    "    job = simulator.run(compiled_circuit, shots=1000)\n",
    "    result = job.result()\n",
    "    counts = result.get_counts(circ)\n",
    "    print(f\"\\nProba de qubits de sortie (sur 1000 mesures) :\",counts)\n",
    "\n",
    "    return counts\n",
    "\n",
    "\n",
    "\n",
    "q0 = int(input(\"Saisir la 1valeur de q0 :  ex |0>\"))\n",
    "print(f\"\\n qubits d'entrée : |{q0}> \")\n",
    "counts = hadamar(q0)\n",
    "\n",
    "circ.draw('mpl')"
   ]
  },
  {
   "cell_type": "markdown",
   "id": "109e5458",
   "metadata": {},
   "source": [
    "#### Porte X (NOT) :\n",
    " $$ \\text{Porte qui donne l'inverse d'un qubit :}  $$\n",
    "$$ \\begin{pmatrix}\n",
    "0 & 1 \\\\ \n",
    "1 & 0\n",
    "\\end{pmatrix} \\quad \\text{Matrice de passage X} \\\\ $$\n",
    "$$ \\\\\n",
    "X \\times q_0 = X \\times \\begin{pmatrix}1 \\\\ 0\\end{pmatrix} = \\begin{pmatrix} 0 \\\\ 1 \\end{pmatrix}\n",
    "\\quad \\quad | \\quad q_0 = \\ket{0} $$"
   ]
  },
  {
   "cell_type": "code",
   "execution_count": null,
   "id": "ca5b6bbb",
   "metadata": {},
   "outputs": [
    {
     "name": "stdout",
     "output_type": "stream",
     "text": [
      "Intialiser le qubit : ex |0>\n"
     ]
    },
    {
     "data": {
      "image/png": "[encoded data removed]",
      "text/plain": [
       "<Figure size 269.064x117.056 with 1 Axes>"
      ]
     },
     "execution_count": 14,
     "metadata": {},
     "output_type": "execute_result"
    }
   ],
   "source": [
    "circ = QuantumCircuit(1)\n",
    "circ.x(0)\n",
    "def qubit_not(q0):\n",
    "    if q0 ==0:\n",
    "        circ.x(0)\n",
    "    circ.x(0)\n",
    "\n",
    "print(\"Intialiser le qubit : ex |0>\")\n",
    "q0 = int(input(\"q0 :\"))\n",
    "qubit_not(q0)\n",
    "circ.draw('mpl')"
   ]
  },
  {
   "cell_type": "markdown",
   "id": "4305398a",
   "metadata": {},
   "source": [
    "#### Porte CNOT :\n",
    "$$ \\text{Porte à deux qubit, le premier qubit sert de contrôle, l'autre est celui affecté par le NOT ou non, si le contrôle est vrai (q0 correspond à |1>) alors il y a NOT sur l'autre qubit sinon rien ne se passe:}  $$\n",
    "$$ \\begin{pmatrix}\n",
    "1&0&0&0 \\\\ \n",
    "0&1&0&0 \\\\ \n",
    "0&0&0&\\color{orange}{1} \\\\ \n",
    "0&0&\\color{orange}{1}&0 \\\\ \n",
    "\\end{pmatrix} \\quad \\text{Matrice de passage P} \\quad \\quad \\text{| Indication :} \\begin{pmatrix}a\\\\b\\\\c\\\\d\\end{pmatrix} \\begin{matrix}\\ket{00}\\\\\\ket{01}\\\\\\ket{10}\\\\\\ket{11}\\end{matrix} \\\\ $$\n",
    "\\\\ $$\n",
    "$$ \\\\\n",
    "P \\times q_0\\:q_1 = P \\times \\ket{10} = P \\times \\begin{pmatrix}0\\\\0\\\\1\\\\0\\end{pmatrix} = \\begin{pmatrix}0\\\\0\\\\0\\\\1\\end{pmatrix} = \\ket{11}\n",
    "\\quad \\quad |\\quad q_0 = \\ket{1} \\quad q_1=\\ket{0} \\quad \\quad \\text{Soit leur produit tensoriel : } \\ket{10} $$\n",
    "$$ \\\\\n",
    "P \\times q_0\\:q_1 = P \\times \\ket{00} = P \\times \\begin{pmatrix}1\\\\0\\\\0\\\\0\\end{pmatrix} = \\begin{pmatrix}1\\\\0\\\\0\\\\0\\end{pmatrix} = \\ket{00}\n",
    "\\quad \\quad |\\quad q_0 = \\ket{1} \\quad q_1=\\ket{0} \\quad \\quad \\text{On voit que pour |00> rien ne change avec CNOT } $$"
   ]
  },
  {
   "cell_type": "code",
   "execution_count": null,
   "id": "6d94b2ca",
   "metadata": {},
   "outputs": [
    {
     "name": "stdout",
     "output_type": "stream",
     "text": [
      "Intialiser les qubits : ex |01>\n",
      "\n",
      " Qubits d'entrée : |11> \n",
      "\n",
      "Proba de qubits de sortie (1000 try) : {'10': 1000}\n"
     ]
    },
    {
     "data": {
      "image/png": "[encoded data removed]",
      "text/plain": [
       "<Figure size 454.517x284.278 with 1 Axes>"
      ]
     },
     "execution_count": 40,
     "metadata": {},
     "output_type": "execute_result"
    }
   ],
   "source": [
    "circ = QuantumCircuit(2,2)\n",
    "simulator = QasmSimulator()\n",
    "\n",
    "def cnot(q0, q1):\n",
    "    if q0 ==1 :\n",
    "        circ.x(0)\n",
    "    if q1 ==1 :\n",
    "        circ.x(1)\n",
    "    circ.cx(0, 1)\n",
    "    \n",
    "    #Measure :\n",
    "    circ.measure([0,1],[1, 0])\n",
    "    compiled_circuit = transpile(circ, simulator)\n",
    "    job = simulator.run(compiled_circuit, shots=1000)\n",
    "    result = job.result()\n",
    "    counts = result.get_counts(circ)\n",
    "    print(f\"\\nProba de qubits de sortie (1000 try) :\",counts)\n",
    "\n",
    "\n",
    "print(\"Intialiser les qubits : ex |01>\")\n",
    "q0 = int(input(\"q0 :\"))\n",
    "q1 = int(input(\"q1 :\"))\n",
    "print(f\"\\n Qubits d'entrée : |{q0}{q1}> \")\n",
    "cnot(q0, q1)\n",
    "circ.draw('mpl')"
   ]
  },
  {
   "cell_type": "markdown",
   "id": "cadfe9ce",
   "metadata": {},
   "source": [
    "#### Porte SWAP :\n",
    "$$ \\text{Porte à deux qubit, le premier qubit sert de contrôle, l'autre est celui affecté par le NOT ou non, si le contrôle est vrai (q0 correspond à |1>) alors il y a NOT sur l'autre qubit sinon rien ne se passe:}  $$\n",
    "$$ \\begin{pmatrix}\n",
    "1&0&0&0 \\\\ \n",
    "0&0&\\color{orange}{1}&0 \\\\ \n",
    "0&\\color{orange}{1}&0&0 \\\\ \n",
    "0&0&0&1 \\\\ \n",
    "\\end{pmatrix} \\quad \\text{Matrice de passage P} \\\\ $$\n",
    "$$ \\\\\n",
    "P \\times q_0\\:q_1 = P \\times \\ket{10} = P \\times \\begin{pmatrix}0\\\\0\\\\1\\\\0\\end{pmatrix} = \\begin{pmatrix}0\\\\1\\\\0\\\\0\\end{pmatrix} = \\ket{11}\n",
    "\\quad \\quad |\\quad q_0 = \\ket{1} \\quad q_1=\\ket{0}$$"
   ]
  },
  {
   "cell_type": "code",
   "execution_count": null,
   "id": "917a8257",
   "metadata": {},
   "outputs": [
    {
     "name": "stdout",
     "output_type": "stream",
     "text": [
      "Intialiser les qubits : ex |01>\n",
      "\n",
      " Qubits d'entrée : |10> \n",
      "\n",
      "Proba de qubits de sortie (1000 try) : {'01': 1000}\n"
     ]
    },
    {
     "data": {
      "image/png": "[encoded data removed]",
      "text/plain": [
       "<Figure size 454.517x284.278 with 1 Axes>"
      ]
     },
     "execution_count": 38,
     "metadata": {},
     "output_type": "execute_result"
    }
   ],
   "source": [
    "circ = QuantumCircuit(2,2)\n",
    "simulator = QasmSimulator()\n",
    "\n",
    "def swap(q0, q1):\n",
    "    if q0 ==1 :\n",
    "        circ.x(0)\n",
    "    if q1 ==1 :\n",
    "        circ.x(1)\n",
    "    circ.swap(0, 1)\n",
    "\n",
    "    #Measure :\n",
    "    circ.measure([0,1],[1, 0])\n",
    "    compiled_circuit = transpile(circ, simulator)\n",
    "    job = simulator.run(compiled_circuit, shots=1000)\n",
    "    result = job.result()\n",
    "    counts = result.get_counts(circ)\n",
    "    print(f\"\\nProba de qubits de sortie (1000 try) :\",counts)\n",
    "\n",
    "\n",
    "print(\"Intialiser les qubits : ex |01>\")\n",
    "q0 = int(input(\"Saisir q0 :\"))\n",
    "q1 = int(input(\"Saisir q1 :\"))\n",
    "print(f\"\\n Qubits d'entrée : |{q0}{q1}> \")\n",
    "swap(q0, q1)\n",
    "circ.draw('mpl')"
   ]
  },
  {
   "cell_type": "markdown",
   "id": "230e9d97",
   "metadata": {},
   "source": [
    "#### Porte CSWAP :\n",
    "$$ \\text{ Porte à 3 qubits qui échangent les valeurs de 2qubits s'ils en ont des différentes et que le premier qubit correspond à une valeur vraie (1):\n",
    "}  $$\n",
    "$$ \\begin{pmatrix}\n",
    "1&0&0&0&0&0&0&0 \\\\ \n",
    "0&1&0&0&0&0&0&0 \\\\ \n",
    "0&0&1&0&0&0&0&0 \\\\ \n",
    "0&0&0&1&0&0&0&0 \\\\ \n",
    "0&0&0&0&1&0&0&0 \\\\ \n",
    "0&0&0&0&0&0&\\color{orange}{1}&0 \\\\ \n",
    "0&0&0&0&0&\\color{orange}{1}&0&0 \\\\ \n",
    "0&0&0&0&0&0&0&1 \\\\ \n",
    "\\end{pmatrix} \\quad \\text{Matrice de passage P} \\quad \\quad \\text{| Indication :} \\begin{pmatrix}a\\\\b\\\\c\\\\d\\\\k\\\\l\\\\m\\\\n\\end{pmatrix} \\begin{matrix}\\ket{000}\\\\\\ket{001}\\\\\\ket{010}\\\\\\ket{011}\\\\\\ket{100}\\\\\\ket{101}\\\\\\ket{110}\\\\\\ket{111}\\end{matrix} \\\\ $$\n",
    "$$ \\\\\n",
    "P \\times q_0\\:q_1\\:q_2 = P \\times \\ket{101} = P \\times \\begin{pmatrix}0\\\\0\\\\0\\\\0\\\\0\\\\1\\\\0\\\\0\\end{pmatrix} = \\begin{pmatrix}0\\\\0\\\\0\\\\0\\\\0\\\\0\\\\1\\\\0\\end{pmatrix} = \\ket{110}\n",
    "\\quad \\quad |\\quad q_0 = \\ket{1} \\quad q_1=\\ket{0} \\quad q_2=\\ket{0}$$"
   ]
  },
  {
   "cell_type": "code",
   "execution_count": null,
   "id": "553f180b",
   "metadata": {},
   "outputs": [
    {
     "name": "stdout",
     "output_type": "stream",
     "text": [
      "Choisir les valeurs d'entrée des 3 qubits | ex : |110>\n",
      "\n",
      " qubits d'entrée : |110> \n",
      "\n",
      "Proba de qubits de sortie (1000 try) : {'101': 1000}\n"
     ]
    },
    {
     "data": {
      "image/png": "[encoded data removed]",
      "text/plain": [
       "<Figure size 538.33x367.889 with 1 Axes>"
      ]
     },
     "execution_count": 37,
     "metadata": {},
     "output_type": "execute_result"
    }
   ],
   "source": [
    "circ = QuantumCircuit(3,3)\n",
    "simulator = QasmSimulator()\n",
    "\n",
    "def ctrlswap(q0, q1, q2):\n",
    "    if q0 == 1 :\n",
    "        circ.x(0)\n",
    "    if q1 == 1 :\n",
    "        circ.x(1)\n",
    "    if q2 == 1 :\n",
    "        circ.x(2)\n",
    "    circ.cswap(0, 1, 2)\n",
    "    #Measure :\n",
    "    circ.measure([0,1,2],[2, 1, 0])\n",
    "    compiled_circuit = transpile(circ, simulator)\n",
    "    job = simulator.run(compiled_circuit, shots=1000)\n",
    "    result = job.result()\n",
    "    counts = result.get_counts(circ)\n",
    "    print(f\"\\nProba de qubits de sortie (1000 try) :\",counts)\n",
    "\n",
    "    \n",
    "print(\"Choisir les valeurs d'entrée des 3 qubits | ex : |110>\")\n",
    "q0 = int(input(\"Entrer la valeur de q0 : \"))\n",
    "q1 = int(input(\"Entrer la valeur de q1 : \"))\n",
    "q2 = int(input(\"Entrer la valeur de q2 : \"))\n",
    "print(f\"\\n qubits d'entrée : |{q0}{q1}{q2}> \")\n",
    "ctrlswap(q0, q1, q2)\n",
    "circ.draw('mpl')"
   ]
  },
  {
   "cell_type": "markdown",
   "id": "3a942073",
   "metadata": {},
   "source": [
    "#### Porte TOF (CCNOT) :\n",
    "$$ \\text{  Porte à 3 qubits similaire à la porte CNOT sauf qu'il ya deux contrôles cette fois :}  $$\n",
    "$$ \\begin{pmatrix}\n",
    "1&0&0&0&0&0&0&0 \\\\ \n",
    "0&1&0&0&0&0&0&0 \\\\ \n",
    "0&0&1&0&0&0&0&0 \\\\ \n",
    "0&0&0&1&0&0&0&0 \\\\ \n",
    "0&0&0&0&1&0&0&0 \\\\ \n",
    "0&0&0&0&0&0&1&0 \\\\ \n",
    "0&0&0&0&0&0&0&\\color{orange}{1} \\\\ \n",
    "0&0&0&0&0&0&\\color{orange}{1}&0 \\\\ \n",
    "\\end{pmatrix} \\quad \\text{Matrice de passage P} \\quad \\quad \\text{| Indication :} \\begin{pmatrix}a\\\\b\\\\c\\\\d\\\\k\\\\l\\\\m\\\\n\\end{pmatrix} \\begin{matrix}\\ket{000}\\\\\\ket{001}\\\\\\ket{010}\\\\\\ket{011}\\\\\\ket{100}\\\\\\ket{101}\\\\\\ket{110}\\\\\\ket{111}\\end{matrix} \\\\ $$\n",
    "$$ \\\\\n",
    "P \\times q_0\\:q_1\\:q_2 = P \\times \\ket{110} = P \\times \\begin{pmatrix}0\\\\0\\\\0\\\\0\\\\0\\\\0\\\\1\\\\0\\end{pmatrix} = \\begin{pmatrix}0\\\\0\\\\0\\\\0\\\\0\\\\0\\\\0\\\\1\\end{pmatrix} = \\ket{111}\n",
    "\\quad \\quad |\\quad q_0 = \\ket{1} \\quad q_1=\\ket{1} \\quad q_2=\\ket{0}$$"
   ]
  },
  {
   "cell_type": "code",
   "execution_count": null,
   "id": "16248367",
   "metadata": {},
   "outputs": [
    {
     "name": "stdout",
     "output_type": "stream",
     "text": [
      "Choisir les valeurs d'entrée des 3 qubits | ex : |110>\n",
      "\n",
      " qubits d'entrée : |101> \n",
      "\n",
      "Proba de qubits de sortie (sur 1000 mesures) : {'101': 1000}\n"
     ]
    },
    {
     "data": {
      "image/png": "[encoded data removed]",
      "text/plain": [
       "<Figure size 538.33x367.889 with 1 Axes>"
      ]
     },
     "execution_count": 62,
     "metadata": {},
     "output_type": "execute_result"
    }
   ],
   "source": [
    "circ = QuantumCircuit(3,3) \n",
    "simulator = QasmSimulator()\n",
    "\n",
    "def ccnot(q0, q1, q2):\n",
    "    if q0 == 1 :\n",
    "        circ.x(0)\n",
    "    if q1 == 1 :\n",
    "        circ.x(1)\n",
    "    if q2 == 1 :\n",
    "        circ.x(2)\n",
    "    circ.ccx(0, 1, 2)\n",
    "\n",
    "    #Measure :\n",
    "    circ.measure([0,1,2],[2, 1, 0])\n",
    "    compiled_circuit = transpile(circ, simulator)\n",
    "    job = simulator.run(compiled_circuit, shots=1000)\n",
    "    result = job.result()\n",
    "    counts = result.get_counts(circ)\n",
    "    print(f\"\\nProba de qubits de sortie (sur 1000 mesures) :\",counts)\n",
    "    return counts\n",
    "\n",
    "    \n",
    "print(\"Choisir les valeurs d'entrée des 3 qubits | ex : |110>\")\n",
    "q0 = int(input(\"Entrer la valeur de q0 : \"))\n",
    "q1 = int(input(\"Entrer la valeur de q1 : \"))\n",
    "q2 = int(input(\"Entrer la valeur de q2 : \"))\n",
    "print(f\"\\n qubits d'entrée : |{q0}{q1}{q2}> \")\n",
    "result = ccnot(q0, q1, q2)\n",
    "circ.draw('mpl')"
   ]
  },
  {
   "cell_type": "markdown",
   "id": "8af92971",
   "metadata": {},
   "source": [
    "2."
   ]
  },
  {
   "cell_type": "code",
   "execution_count": null,
   "id": "c19e087b",
   "metadata": {},
   "outputs": [
    {
     "data": {
      "image/png": "[encoded data removed]",
      "text/plain": [
       "<Figure size 700x500 with 1 Axes>"
      ]
     },
     "execution_count": 3,
     "metadata": {},
     "output_type": "execute_result"
    }
   ],
   "source": [
    "#Measuring the qubits\n",
    "\n",
    "\"\"\"\n",
    "circuit.measure([ Qubits ] ,[Classical bits])\n",
    "\n",
    "simulator = QasmSimulator()\n",
    "compiled_circuit = transpile(circuit, simulator)\n",
    "job = simulator.run(compiled_circuit, shots=1000) #by default 1024 shots\n",
    "result = job.result()\n",
    "counts = result.get_counts(circuit)  # counts can then be used with the plots\n",
    "print(\"\\nTotal count for 00 and 11 are:\",counts) \n",
    "\"\"\"\n",
    "#example :\n",
    "counts = {'1':515, '2':485}\n",
    "plot_histogram(counts)\n",
    "\n"
   ]
  },
  {
   "cell_type": "code",
   "execution_count": null,
   "id": "57634a71",
   "metadata": {},
   "outputs": [],
   "source": [
    "# Plot the Bloch sphere\n"
   ]
  },
  {
   "cell_type": "markdown",
   "id": "b56f8866",
   "metadata": {},
   "source": [
    "#### 4)  Différent SWAP et CSWAP\n",
    "\n",
    "On à déja vu précedemment ces deux actions à une porte cependant il est aussi possible d'implémenter un swap avec trois portes CNOT :     \n",
    "  \n",
    " $$ CNOT : (x,y) \\rightarrow (x, x \\oplus y) $$ \n",
    "D'après la notation de CNOT on a pour les trois CNOT sachant que la deuxième porte CNOT a la bit de controle sur y : $$\\begin{matrix} x \\\\ \\\\  y\\end{matrix}  \\xrightarrow[\\text{ }]{\\text{1ere porte}} \\begin{matrix} x \\\\ \\\\ x \\oplus y\\end{matrix} \n",
    " \\xrightarrow[\\text{}]{\\text{2nd porte} }  \\begin{matrix} x \\oplus x \\oplus y = y \\\\ \\\\ x \\oplus y\\end{matrix} \\xrightarrow[\\text{}]{\\text{3ème porte} }  \\begin{matrix} y \\\\ \\\\ x \\oplus y \\oplus y = x\\end{matrix} $$ "
   ]
  },
  {
   "cell_type": "code",
   "execution_count": 6,
   "id": "cb304375",
   "metadata": {},
   "outputs": [
    {
     "name": "stdout",
     "output_type": "stream",
     "text": [
      "Intialiser les qubits : ex |01>\n",
      "\n",
      " Qubits d'entrée : |11> \n",
      "\n",
      "Proba de qubits de sortie (1000 try) : {'11': 1000}\n"
     ]
    },
    {
     "data": {
      "image/png": "[encoded data removed]",
      "text/plain": [
       "<Figure size 621.739x284.278 with 1 Axes>"
      ]
     },
     "execution_count": 6,
     "metadata": {},
     "output_type": "execute_result"
    }
   ],
   "source": [
    "circ = QuantumCircuit(2,2)\n",
    "simulator = QasmSimulator()\n",
    "\n",
    "def cnot(q0, q1):\n",
    "    if q0 ==1 :\n",
    "        circ.x(0)\n",
    "    if q1 ==1 :\n",
    "        circ.x(1)\n",
    "    circ.cx(0, 1)\n",
    "    circ.cx(1, 0)\n",
    "    circ.cx(0, 1)\n",
    "    \n",
    "    #Measure :\n",
    "    circ.measure([0,1],[1, 0])\n",
    "    compiled_circuit = transpile(circ, simulator)\n",
    "    job = simulator.run(compiled_circuit, shots=1000)\n",
    "    result = job.result()\n",
    "    counts = result.get_counts(circ)\n",
    "    print(f\"\\nProba de qubits de sortie (1000 try) :\",counts)\n",
    "\n",
    "\n",
    "print(\"Intialiser les qubits : ex |01>\")\n",
    "q0 = int(input(\"q0 :\"))\n",
    "q1 = int(input(\"q1 :\"))\n",
    "print(f\"\\n Qubits d'entrée : |{q0}{q1}> \")\n",
    "cnot(q0, q1)\n",
    "circ.draw('mpl')\n",
    "#circ.draw() # Draw with character not an image\n",
    "\n"
   ]
  }
 ],
 "metadata": {
  "kernelspec": {
   "display_name": "Python 3.10.4 ('Kilaposhi')",
   "language": "python",
   "name": "python3"
  },
  "language_info": {
   "codemirror_mode": {
    "name": "ipython",
    "version": 3
   },
   "file_extension": ".py",
   "mimetype": "text/x-python",
   "name": "python",
   "nbconvert_exporter": "python",
   "pygments_lexer": "ipython3",
   "version": "3.10.4"
  },
  "vscode": {
   "interpreter": {
    "hash": "a4947a2f894b43edf7548ada55e7ee00a905dc5e51e39373c832f9a77f989b5a"
   }
  }
 },
 "nbformat": 4,
 "nbformat_minor": 5
}
