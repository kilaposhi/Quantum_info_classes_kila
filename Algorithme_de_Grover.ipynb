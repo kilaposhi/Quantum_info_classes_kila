{
 "cells": [
  {
   "cell_type": "markdown",
   "id": "087f3a4d",
   "metadata": {},
   "source": [
    "# Algorithme de Grover\n",
    "  \n",
    "### Définition du problème\n",
    "\n",
    "On veut rechercher dans une liste non ordonnée composée uniquement de 0 et d'un 1, l'indice de l'intrus : le 1  \n",
    "\n",
    "Avec un algorithme classique cela prendait dans le pire des cas N itérations (Le 1 est à la fin de la liste), et en moyenne on met N/2 itérations pour trouver "
   ]
  },
  {
   "cell_type": "code",
   "execution_count": null,
   "id": "6c13a6e2",
   "metadata": {},
   "outputs": [],
   "source": []
  }
 ],
 "metadata": {
  "kernelspec": {
   "display_name": "Python 3.9.13 ('base')",
   "language": "python",
   "name": "python3"
  },
  "language_info": {
   "codemirror_mode": {
    "name": "ipython",
    "version": 3
   },
   "file_extension": ".py",
   "mimetype": "text/x-python",
   "name": "python",
   "nbconvert_exporter": "python",
   "pygments_lexer": "ipython3",
   "version": "3.9.13"
  },
  "vscode": {
   "interpreter": {
    "hash": "e8026ea0cfbe9d8282885a7587371edaad191156aeab201336780da208b8f0ef"
   }
  }
 },
 "nbformat": 4,
 "nbformat_minor": 5
}
